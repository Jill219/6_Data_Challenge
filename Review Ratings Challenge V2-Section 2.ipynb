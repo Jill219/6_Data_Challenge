{
 "cells": [
  {
   "cell_type": "markdown",
   "metadata": {},
   "source": [
    "# Review Ratings Challenge"
   ]
  },
  {
   "cell_type": "code",
   "execution_count": 1,
   "metadata": {},
   "outputs": [],
   "source": [
    "import pandas as pd\n",
    "import string\n",
    "import re"
   ]
  },
  {
   "cell_type": "markdown",
   "metadata": {},
   "source": [
    "**Task:** Import review_ratings_with_headers.csv"
   ]
  },
  {
   "cell_type": "code",
   "execution_count": 2,
   "metadata": {},
   "outputs": [],
   "source": [
    "review_headers = pd.read_csv(\"review_ratings_with_headers.csv\", index_col = 0)"
   ]
  },
  {
   "cell_type": "markdown",
   "metadata": {},
   "source": [
    "**Task:** Explore data types in the dataset"
   ]
  },
  {
   "cell_type": "code",
   "execution_count": 3,
   "metadata": {},
   "outputs": [
    {
     "data": {
      "text/plain": [
       "churches                 float64\n",
       "resorts                  float64\n",
       "beaches                  float64\n",
       "parks                    float64\n",
       "theatres                 float64\n",
       "museums                  float64\n",
       "malls                    float64\n",
       "zoo                      float64\n",
       "restaurants              float64\n",
       "pubs_bars                float64\n",
       "local_services            object\n",
       "burger_pizza_shops       float64\n",
       "hotels_other_lodgings    float64\n",
       "juice_bars               float64\n",
       "art_galleries            float64\n",
       "dance_clubs              float64\n",
       "swimming_pools           float64\n",
       "gyms                     float64\n",
       "bakeries                 float64\n",
       "beauty_spas              float64\n",
       "cafes                    float64\n",
       "view_points              float64\n",
       "monuments                float64\n",
       "gardens                  float64\n",
       "dtype: object"
      ]
     },
     "execution_count": 3,
     "metadata": {},
     "output_type": "execute_result"
    }
   ],
   "source": [
    "review_headers.dtypes"
   ]
  },
  {
   "cell_type": "markdown",
   "metadata": {},
   "source": [
    "Question 4: What data type is **parks**?"
   ]
  },
  {
   "cell_type": "code",
   "execution_count": 4,
   "metadata": {},
   "outputs": [
    {
     "data": {
      "text/plain": [
       "dtype('float64')"
      ]
     },
     "execution_count": 4,
     "metadata": {},
     "output_type": "execute_result"
    }
   ],
   "source": [
    "review_headers.parks.dtypes"
   ]
  },
  {
   "cell_type": "markdown",
   "metadata": {},
   "source": [
    "**Task:** Find special characters that are in one of the columns, replace with 0, and convert to continuous/float type"
   ]
  },
  {
   "cell_type": "code",
   "execution_count": 6,
   "metadata": {},
   "outputs": [],
   "source": [
    "boundary = string.digits + '.'\n",
    "for i, cha in enumerate (list(review_headers.local_services)):\n",
    "    if cha.strip(boundary) != '':\n",
    "        review_headers['local_services'][i]= '0'"
   ]
  },
  {
   "cell_type": "code",
   "execution_count": 7,
   "metadata": {},
   "outputs": [
    {
     "data": {
      "text/plain": [
       "dtype('float64')"
      ]
     },
     "execution_count": 7,
     "metadata": {},
     "output_type": "execute_result"
    }
   ],
   "source": [
    "review_headers['local_services'] = review_headers['local_services'].astype('float64')\n",
    "review_headers['local_services'].dtypes"
   ]
  },
  {
   "cell_type": "markdown",
   "metadata": {},
   "source": [
    "Question 5: What was the variable that contained special characters?"
   ]
  },
  {
   "cell_type": "markdown",
   "metadata": {},
   "source": [
    "local_services"
   ]
  },
  {
   "cell_type": "markdown",
   "metadata": {},
   "source": [
    "Question 6: What is the mean of the variable now that it has been converted to type continuous/float?"
   ]
  },
  {
   "cell_type": "code",
   "execution_count": 8,
   "metadata": {},
   "outputs": [
    {
     "data": {
      "text/plain": [
       "2.55"
      ]
     },
     "execution_count": 8,
     "metadata": {},
     "output_type": "execute_result"
    }
   ],
   "source": [
    "round(review_headers.local_services.mean(),2)"
   ]
  },
  {
   "cell_type": "markdown",
   "metadata": {},
   "source": [
    "**Task:** Fill missing values with 0 and run summary statistics on the dataset"
   ]
  },
  {
   "cell_type": "code",
   "execution_count": 11,
   "metadata": {
    "scrolled": true
   },
   "outputs": [
    {
     "data": {
      "text/html": [
       "<div>\n",
       "<style scoped>\n",
       "    .dataframe tbody tr th:only-of-type {\n",
       "        vertical-align: middle;\n",
       "    }\n",
       "\n",
       "    .dataframe tbody tr th {\n",
       "        vertical-align: top;\n",
       "    }\n",
       "\n",
       "    .dataframe thead th {\n",
       "        text-align: right;\n",
       "    }\n",
       "</style>\n",
       "<table border=\"1\" class=\"dataframe\">\n",
       "  <thead>\n",
       "    <tr style=\"text-align: right;\">\n",
       "      <th></th>\n",
       "      <th>churches</th>\n",
       "      <th>resorts</th>\n",
       "      <th>beaches</th>\n",
       "      <th>parks</th>\n",
       "      <th>theatres</th>\n",
       "      <th>museums</th>\n",
       "      <th>malls</th>\n",
       "      <th>zoo</th>\n",
       "      <th>restaurants</th>\n",
       "      <th>pubs_bars</th>\n",
       "      <th>...</th>\n",
       "      <th>art_galleries</th>\n",
       "      <th>dance_clubs</th>\n",
       "      <th>swimming_pools</th>\n",
       "      <th>gyms</th>\n",
       "      <th>bakeries</th>\n",
       "      <th>beauty_spas</th>\n",
       "      <th>cafes</th>\n",
       "      <th>view_points</th>\n",
       "      <th>monuments</th>\n",
       "      <th>gardens</th>\n",
       "    </tr>\n",
       "  </thead>\n",
       "  <tbody>\n",
       "    <tr>\n",
       "      <th>count</th>\n",
       "      <td>4456.000000</td>\n",
       "      <td>4456.000000</td>\n",
       "      <td>4456.000000</td>\n",
       "      <td>4456.000000</td>\n",
       "      <td>4456.000000</td>\n",
       "      <td>4456.000000</td>\n",
       "      <td>4456.000000</td>\n",
       "      <td>4456.000000</td>\n",
       "      <td>4456.000000</td>\n",
       "      <td>4456.000000</td>\n",
       "      <td>...</td>\n",
       "      <td>4456.000000</td>\n",
       "      <td>4456.000000</td>\n",
       "      <td>4456.000000</td>\n",
       "      <td>4456.000000</td>\n",
       "      <td>4456.000000</td>\n",
       "      <td>4456.000000</td>\n",
       "      <td>4456.000000</td>\n",
       "      <td>4456.000000</td>\n",
       "      <td>4456.000000</td>\n",
       "      <td>4456.000000</td>\n",
       "    </tr>\n",
       "    <tr>\n",
       "      <th>mean</th>\n",
       "      <td>1.452987</td>\n",
       "      <td>2.304504</td>\n",
       "      <td>2.483409</td>\n",
       "      <td>2.790247</td>\n",
       "      <td>2.966690</td>\n",
       "      <td>2.908746</td>\n",
       "      <td>3.378438</td>\n",
       "      <td>2.542897</td>\n",
       "      <td>3.125222</td>\n",
       "      <td>2.832208</td>\n",
       "      <td>...</td>\n",
       "      <td>2.224661</td>\n",
       "      <td>1.189217</td>\n",
       "      <td>0.950121</td>\n",
       "      <td>0.828218</td>\n",
       "      <td>0.966405</td>\n",
       "      <td>0.994675</td>\n",
       "      <td>0.962089</td>\n",
       "      <td>1.734473</td>\n",
       "      <td>1.523761</td>\n",
       "      <td>1.549632</td>\n",
       "    </tr>\n",
       "    <tr>\n",
       "      <th>std</th>\n",
       "      <td>0.829420</td>\n",
       "      <td>1.418781</td>\n",
       "      <td>1.246003</td>\n",
       "      <td>1.304826</td>\n",
       "      <td>1.339469</td>\n",
       "      <td>1.288723</td>\n",
       "      <td>1.414961</td>\n",
       "      <td>1.116005</td>\n",
       "      <td>1.357130</td>\n",
       "      <td>1.306910</td>\n",
       "      <td>...</td>\n",
       "      <td>1.727771</td>\n",
       "      <td>1.109464</td>\n",
       "      <td>0.984810</td>\n",
       "      <td>0.963599</td>\n",
       "      <td>1.198750</td>\n",
       "      <td>1.183759</td>\n",
       "      <td>0.919017</td>\n",
       "      <td>1.585888</td>\n",
       "      <td>1.313043</td>\n",
       "      <td>1.165424</td>\n",
       "    </tr>\n",
       "    <tr>\n",
       "      <th>min</th>\n",
       "      <td>0.000000</td>\n",
       "      <td>0.000000</td>\n",
       "      <td>0.000000</td>\n",
       "      <td>0.830000</td>\n",
       "      <td>1.120000</td>\n",
       "      <td>1.110000</td>\n",
       "      <td>1.120000</td>\n",
       "      <td>0.860000</td>\n",
       "      <td>0.840000</td>\n",
       "      <td>0.810000</td>\n",
       "      <td>...</td>\n",
       "      <td>0.000000</td>\n",
       "      <td>0.000000</td>\n",
       "      <td>0.000000</td>\n",
       "      <td>0.000000</td>\n",
       "      <td>0.000000</td>\n",
       "      <td>0.000000</td>\n",
       "      <td>0.000000</td>\n",
       "      <td>0.000000</td>\n",
       "      <td>0.000000</td>\n",
       "      <td>0.000000</td>\n",
       "    </tr>\n",
       "    <tr>\n",
       "      <th>25%</th>\n",
       "      <td>0.920000</td>\n",
       "      <td>1.360000</td>\n",
       "      <td>1.530000</td>\n",
       "      <td>1.737500</td>\n",
       "      <td>1.780000</td>\n",
       "      <td>1.790000</td>\n",
       "      <td>1.940000</td>\n",
       "      <td>1.620000</td>\n",
       "      <td>1.800000</td>\n",
       "      <td>1.630000</td>\n",
       "      <td>...</td>\n",
       "      <td>0.860000</td>\n",
       "      <td>0.690000</td>\n",
       "      <td>0.580000</td>\n",
       "      <td>0.530000</td>\n",
       "      <td>0.520000</td>\n",
       "      <td>0.540000</td>\n",
       "      <td>0.570000</td>\n",
       "      <td>0.740000</td>\n",
       "      <td>0.790000</td>\n",
       "      <td>0.880000</td>\n",
       "    </tr>\n",
       "    <tr>\n",
       "      <th>50%</th>\n",
       "      <td>1.340000</td>\n",
       "      <td>1.880000</td>\n",
       "      <td>2.065000</td>\n",
       "      <td>2.450000</td>\n",
       "      <td>2.670000</td>\n",
       "      <td>2.700000</td>\n",
       "      <td>3.230000</td>\n",
       "      <td>2.170000</td>\n",
       "      <td>2.800000</td>\n",
       "      <td>2.680000</td>\n",
       "      <td>...</td>\n",
       "      <td>1.330000</td>\n",
       "      <td>0.800000</td>\n",
       "      <td>0.740000</td>\n",
       "      <td>0.690000</td>\n",
       "      <td>0.690000</td>\n",
       "      <td>0.690000</td>\n",
       "      <td>0.770000</td>\n",
       "      <td>1.020000</td>\n",
       "      <td>1.070000</td>\n",
       "      <td>1.290000</td>\n",
       "    </tr>\n",
       "    <tr>\n",
       "      <th>75%</th>\n",
       "      <td>1.810000</td>\n",
       "      <td>2.670000</td>\n",
       "      <td>2.740000</td>\n",
       "      <td>4.062500</td>\n",
       "      <td>4.330000</td>\n",
       "      <td>3.910000</td>\n",
       "      <td>5.000000</td>\n",
       "      <td>3.192500</td>\n",
       "      <td>5.000000</td>\n",
       "      <td>3.492500</td>\n",
       "      <td>...</td>\n",
       "      <td>4.900000</td>\n",
       "      <td>1.150000</td>\n",
       "      <td>0.910000</td>\n",
       "      <td>0.840000</td>\n",
       "      <td>0.860000</td>\n",
       "      <td>0.860000</td>\n",
       "      <td>1.000000</td>\n",
       "      <td>2.060000</td>\n",
       "      <td>1.540000</td>\n",
       "      <td>1.650000</td>\n",
       "    </tr>\n",
       "    <tr>\n",
       "      <th>max</th>\n",
       "      <td>5.000000</td>\n",
       "      <td>5.000000</td>\n",
       "      <td>5.000000</td>\n",
       "      <td>5.000000</td>\n",
       "      <td>5.000000</td>\n",
       "      <td>5.000000</td>\n",
       "      <td>5.000000</td>\n",
       "      <td>5.000000</td>\n",
       "      <td>5.000000</td>\n",
       "      <td>5.000000</td>\n",
       "      <td>...</td>\n",
       "      <td>5.000000</td>\n",
       "      <td>5.000000</td>\n",
       "      <td>5.000000</td>\n",
       "      <td>5.000000</td>\n",
       "      <td>5.000000</td>\n",
       "      <td>5.000000</td>\n",
       "      <td>5.000000</td>\n",
       "      <td>5.000000</td>\n",
       "      <td>5.000000</td>\n",
       "      <td>5.000000</td>\n",
       "    </tr>\n",
       "  </tbody>\n",
       "</table>\n",
       "<p>8 rows × 24 columns</p>\n",
       "</div>"
      ],
      "text/plain": [
       "          churches      resorts      beaches        parks     theatres  \\\n",
       "count  4456.000000  4456.000000  4456.000000  4456.000000  4456.000000   \n",
       "mean      1.452987     2.304504     2.483409     2.790247     2.966690   \n",
       "std       0.829420     1.418781     1.246003     1.304826     1.339469   \n",
       "min       0.000000     0.000000     0.000000     0.830000     1.120000   \n",
       "25%       0.920000     1.360000     1.530000     1.737500     1.780000   \n",
       "50%       1.340000     1.880000     2.065000     2.450000     2.670000   \n",
       "75%       1.810000     2.670000     2.740000     4.062500     4.330000   \n",
       "max       5.000000     5.000000     5.000000     5.000000     5.000000   \n",
       "\n",
       "           museums        malls          zoo  restaurants    pubs_bars  ...  \\\n",
       "count  4456.000000  4456.000000  4456.000000  4456.000000  4456.000000  ...   \n",
       "mean      2.908746     3.378438     2.542897     3.125222     2.832208  ...   \n",
       "std       1.288723     1.414961     1.116005     1.357130     1.306910  ...   \n",
       "min       1.110000     1.120000     0.860000     0.840000     0.810000  ...   \n",
       "25%       1.790000     1.940000     1.620000     1.800000     1.630000  ...   \n",
       "50%       2.700000     3.230000     2.170000     2.800000     2.680000  ...   \n",
       "75%       3.910000     5.000000     3.192500     5.000000     3.492500  ...   \n",
       "max       5.000000     5.000000     5.000000     5.000000     5.000000  ...   \n",
       "\n",
       "       art_galleries  dance_clubs  swimming_pools         gyms     bakeries  \\\n",
       "count    4456.000000  4456.000000     4456.000000  4456.000000  4456.000000   \n",
       "mean        2.224661     1.189217        0.950121     0.828218     0.966405   \n",
       "std         1.727771     1.109464        0.984810     0.963599     1.198750   \n",
       "min         0.000000     0.000000        0.000000     0.000000     0.000000   \n",
       "25%         0.860000     0.690000        0.580000     0.530000     0.520000   \n",
       "50%         1.330000     0.800000        0.740000     0.690000     0.690000   \n",
       "75%         4.900000     1.150000        0.910000     0.840000     0.860000   \n",
       "max         5.000000     5.000000        5.000000     5.000000     5.000000   \n",
       "\n",
       "       beauty_spas        cafes  view_points    monuments      gardens  \n",
       "count  4456.000000  4456.000000  4456.000000  4456.000000  4456.000000  \n",
       "mean      0.994675     0.962089     1.734473     1.523761     1.549632  \n",
       "std       1.183759     0.919017     1.585888     1.313043     1.165424  \n",
       "min       0.000000     0.000000     0.000000     0.000000     0.000000  \n",
       "25%       0.540000     0.570000     0.740000     0.790000     0.880000  \n",
       "50%       0.690000     0.770000     1.020000     1.070000     1.290000  \n",
       "75%       0.860000     1.000000     2.060000     1.540000     1.650000  \n",
       "max       5.000000     5.000000     5.000000     5.000000     5.000000  \n",
       "\n",
       "[8 rows x 24 columns]"
      ]
     },
     "execution_count": 11,
     "metadata": {},
     "output_type": "execute_result"
    }
   ],
   "source": [
    "review_headers = review_headers.fillna(0)\n",
    "review_headers.describe()"
   ]
  },
  {
   "cell_type": "markdown",
   "metadata": {},
   "source": [
    "Question 7: What is the IQR of ratings for **hotels_other_lodgings**?"
   ]
  },
  {
   "cell_type": "code",
   "execution_count": 10,
   "metadata": {},
   "outputs": [
    {
     "name": "stdout",
     "output_type": "stream",
     "text": [
      "1.18\n"
     ]
    }
   ],
   "source": [
    "Q1 = review_headers.hotels_other_lodgings.quantile(0.25)\n",
    "Q3 = review_headers.hotels_other_lodgings.quantile(0.75)\n",
    "IQR = round((Q3 - Q1),2)\n",
    "print (IQR)"
   ]
  }
 ],
 "metadata": {
  "kernelspec": {
   "display_name": "Python 3",
   "language": "python",
   "name": "python3"
  },
  "language_info": {
   "codemirror_mode": {
    "name": "ipython",
    "version": 3
   },
   "file_extension": ".py",
   "mimetype": "text/x-python",
   "name": "python",
   "nbconvert_exporter": "python",
   "pygments_lexer": "ipython3",
   "version": "3.7.3"
  }
 },
 "nbformat": 4,
 "nbformat_minor": 2
}
